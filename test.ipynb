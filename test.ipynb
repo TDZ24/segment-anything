{
 "cells": [
  {
   "cell_type": "code",
   "execution_count": 3,
   "metadata": {},
   "outputs": [],
   "source": [
    "from PIL import Image\n",
    "import numpy as np\n",
    "\n",
    "image_path = \"../segment-anything/assets/Lion.jpg\"\n",
    "pil_image = Image.open(image_path).convert('RGB')\n",
    "numpy_image = np.array(pil_image)"
   ]
  },
  {
   "cell_type": "code",
   "execution_count": 6,
   "metadata": {},
   "outputs": [],
   "source": [
    "from PIL import Image\n",
    "import numpy as np\n",
    "from segment_anything import sam_model_registry, SamPredictor\n",
    "\n",
    "# Load the image using PIL and convert it to a NumPy array\n",
    "image_path = \"../segment-anything/assets/Lion.jpg\"\n",
    "pil_image = Image.open(image_path).convert('RGB')\n",
    "numpy_image = np.array(pil_image)\n",
    "\n",
    "# Create an instance of the SamPredictor class and assign it to the predictor variable\n",
    "sam = sam_model_registry[\"vit_h\"](checkpoint=\"../segment-anything/weights/sam_vit_h_4b8939.pth\")\n",
    "predictor = SamPredictor(sam)\n",
    "\n",
    "# Set the image using the NumPy array and predict the mask\n",
    "predictor.set_image(numpy_image)\n",
    "masks, _, _ = predictor.predict()"
   ]
  },
  {
   "cell_type": "code",
   "execution_count": 7,
   "metadata": {},
   "outputs": [],
   "source": [
    "checkpoint = \"sam_vit_h_4b8939.pth\"\n",
    "model_type = \"vit_h\"\n",
    "sam = sam_model_registry[\"vit_h\"](checkpoint=\"../segment-anything/weights/sam_vit_h_4b8939.pth\")\n",
    "sam.to(device='cpu')\n",
    "predictor = SamPredictor(sam)"
   ]
  },
  {
   "cell_type": "code",
   "execution_count": 9,
   "metadata": {},
   "outputs": [],
   "source": [
    "import cv2\n",
    "import numpy as np\n",
    "image = cv2.imread('../segment-anything/assets/Lion.jpg')\n",
    "predictor.set_image(image)\n",
    "image_embedding = predictor.get_image_embedding().cpu().numpy()\n",
    "np.save(\"lion_embedding.npy\", image_embedding)"
   ]
  },
  {
   "cell_type": "code",
   "execution_count": 11,
   "metadata": {},
   "outputs": [],
   "source": [
    "from onnxruntime.quantization import quantize_dynamic, QuantType"
   ]
  },
  {
   "cell_type": "code",
   "execution_count": 12,
   "metadata": {},
   "outputs": [
    {
     "ename": "FileNotFoundError",
     "evalue": "[Errno 2] No such file or directory: 'sam_onnx_example.onnx'",
     "output_type": "error",
     "traceback": [
      "\u001b[1;31m---------------------------------------------------------------------------\u001b[0m",
      "\u001b[1;31mFileNotFoundError\u001b[0m                         Traceback (most recent call last)",
      "Cell \u001b[1;32mIn[12], line 3\u001b[0m\n\u001b[0;32m      1\u001b[0m onnx_model_path \u001b[39m=\u001b[39m \u001b[39m\"\u001b[39m\u001b[39msam_onnx_example.onnx\u001b[39m\u001b[39m\"\u001b[39m\n\u001b[0;32m      2\u001b[0m onnx_model_quantized_path \u001b[39m=\u001b[39m \u001b[39m\"\u001b[39m\u001b[39msam_onnx_quantized_example.onnx\u001b[39m\u001b[39m\"\u001b[39m\n\u001b[1;32m----> 3\u001b[0m quantize_dynamic(\n\u001b[0;32m      4\u001b[0m     model_input\u001b[39m=\u001b[39;49monnx_model_path,\n\u001b[0;32m      5\u001b[0m     model_output\u001b[39m=\u001b[39;49monnx_model_quantized_path,\n\u001b[0;32m      6\u001b[0m     optimize_model\u001b[39m=\u001b[39;49m\u001b[39mTrue\u001b[39;49;00m,\n\u001b[0;32m      7\u001b[0m     per_channel\u001b[39m=\u001b[39;49m\u001b[39mFalse\u001b[39;49;00m,\n\u001b[0;32m      8\u001b[0m     reduce_range\u001b[39m=\u001b[39;49m\u001b[39mFalse\u001b[39;49;00m,\n\u001b[0;32m      9\u001b[0m     weight_type\u001b[39m=\u001b[39;49mQuantType\u001b[39m.\u001b[39;49mQUInt8,\n\u001b[0;32m     10\u001b[0m )\n",
      "File \u001b[1;32mc:\\Users\\tomas\\AppData\\Local\\Programs\\Python\\Python310\\lib\\site-packages\\onnxruntime\\quantization\\quantize.py:481\u001b[0m, in \u001b[0;36mquantize_dynamic\u001b[1;34m(model_input, model_output, op_types_to_quantize, per_channel, reduce_range, weight_type, nodes_to_quantize, nodes_to_exclude, optimize_model, use_external_data_format, extra_options)\u001b[0m\n\u001b[0;32m    478\u001b[0m \u001b[39mif\u001b[39;00m \u001b[39mnot\u001b[39;00m op_types_to_quantize \u001b[39mor\u001b[39;00m \u001b[39mlen\u001b[39m(op_types_to_quantize) \u001b[39m==\u001b[39m \u001b[39m0\u001b[39m:\n\u001b[0;32m    479\u001b[0m     op_types_to_quantize \u001b[39m=\u001b[39m \u001b[39mlist\u001b[39m(IntegerOpsRegistry\u001b[39m.\u001b[39mkeys())\n\u001b[1;32m--> 481\u001b[0m model \u001b[39m=\u001b[39m load_model(Path(model_input), optimize_model)\n\u001b[0;32m    483\u001b[0m \u001b[39mif\u001b[39;00m \u001b[39m\"\u001b[39m\u001b[39mMatMulConstBOnly\u001b[39m\u001b[39m\"\u001b[39m \u001b[39mnot\u001b[39;00m \u001b[39min\u001b[39;00m extra_options:\n\u001b[0;32m    484\u001b[0m     extra_options[\u001b[39m\"\u001b[39m\u001b[39mMatMulConstBOnly\u001b[39m\u001b[39m\"\u001b[39m] \u001b[39m=\u001b[39m \u001b[39mTrue\u001b[39;00m\n",
      "File \u001b[1;32mc:\\Users\\tomas\\AppData\\Local\\Programs\\Python\\Python310\\lib\\site-packages\\onnxruntime\\quantization\\quant_utils.py:557\u001b[0m, in \u001b[0;36mload_model\u001b[1;34m(model_path, need_optimize)\u001b[0m\n\u001b[0;32m    555\u001b[0m \u001b[39mdef\u001b[39;00m \u001b[39mload_model\u001b[39m(model_path: Path, need_optimize: \u001b[39mbool\u001b[39m):\n\u001b[0;32m    556\u001b[0m     \u001b[39mwith\u001b[39;00m tempfile\u001b[39m.\u001b[39mTemporaryDirectory(prefix\u001b[39m=\u001b[39m\u001b[39m\"\u001b[39m\u001b[39mort.quant.\u001b[39m\u001b[39m\"\u001b[39m) \u001b[39mas\u001b[39;00m quant_tmp_dir:\n\u001b[1;32m--> 557\u001b[0m         \u001b[39mif\u001b[39;00m need_optimize \u001b[39mand\u001b[39;00m \u001b[39mnot\u001b[39;00m model_has_external_data(model_path):\n\u001b[0;32m    558\u001b[0m             opt_model_path \u001b[39m=\u001b[39m Path(quant_tmp_dir)\u001b[39m.\u001b[39mjoinpath(\u001b[39m\"\u001b[39m\u001b[39mmodel.onnx\u001b[39m\u001b[39m\"\u001b[39m)\n\u001b[0;32m    559\u001b[0m             optimize_model(model_path, opt_model_path)\n",
      "File \u001b[1;32mc:\\Users\\tomas\\AppData\\Local\\Programs\\Python\\Python310\\lib\\site-packages\\onnxruntime\\quantization\\quant_utils.py:493\u001b[0m, in \u001b[0;36mmodel_has_external_data\u001b[1;34m(model_path)\u001b[0m\n\u001b[0;32m    492\u001b[0m \u001b[39mdef\u001b[39;00m \u001b[39mmodel_has_external_data\u001b[39m(model_path: Path):\n\u001b[1;32m--> 493\u001b[0m     model \u001b[39m=\u001b[39m onnx\u001b[39m.\u001b[39;49mload(model_path\u001b[39m.\u001b[39;49mas_posix(), load_external_data\u001b[39m=\u001b[39;49m\u001b[39mFalse\u001b[39;49;00m)\n\u001b[0;32m    494\u001b[0m     \u001b[39mfor\u001b[39;00m intializer \u001b[39min\u001b[39;00m model\u001b[39m.\u001b[39mgraph\u001b[39m.\u001b[39minitializer:\n\u001b[0;32m    495\u001b[0m         \u001b[39mif\u001b[39;00m external_data_helper\u001b[39m.\u001b[39muses_external_data(intializer):\n",
      "File \u001b[1;32mc:\\Users\\tomas\\AppData\\Local\\Programs\\Python\\Python310\\lib\\site-packages\\onnx\\__init__.py:133\u001b[0m, in \u001b[0;36mload_model\u001b[1;34m(f, format, load_external_data)\u001b[0m\n\u001b[0;32m    116\u001b[0m \u001b[39mdef\u001b[39;00m \u001b[39mload_model\u001b[39m(\n\u001b[0;32m    117\u001b[0m     f: Union[IO[\u001b[39mbytes\u001b[39m], \u001b[39mstr\u001b[39m],\n\u001b[0;32m    118\u001b[0m     \u001b[39mformat\u001b[39m: Optional[Any] \u001b[39m=\u001b[39m \u001b[39mNone\u001b[39;00m,\n\u001b[0;32m    119\u001b[0m     load_external_data: \u001b[39mbool\u001b[39m \u001b[39m=\u001b[39m \u001b[39mTrue\u001b[39;00m,\n\u001b[0;32m    120\u001b[0m ) \u001b[39m-\u001b[39m\u001b[39m>\u001b[39m ModelProto:\n\u001b[0;32m    121\u001b[0m \u001b[39m    \u001b[39m\u001b[39m\"\"\"\u001b[39;00m\n\u001b[0;32m    122\u001b[0m \u001b[39m    Loads a serialized ModelProto into memory\u001b[39;00m\n\u001b[0;32m    123\u001b[0m \u001b[39m    load_external_data is true if the external data under the same directory of the model and load the external data\u001b[39;00m\n\u001b[1;32m   (...)\u001b[0m\n\u001b[0;32m    131\u001b[0m \u001b[39m        Loaded in-memory ModelProto\u001b[39;00m\n\u001b[0;32m    132\u001b[0m \u001b[39m    \"\"\"\u001b[39;00m\n\u001b[1;32m--> 133\u001b[0m     s \u001b[39m=\u001b[39m _load_bytes(f)\n\u001b[0;32m    134\u001b[0m     model \u001b[39m=\u001b[39m load_model_from_string(s, \u001b[39mformat\u001b[39m\u001b[39m=\u001b[39m\u001b[39mformat\u001b[39m)\n\u001b[0;32m    136\u001b[0m     \u001b[39mif\u001b[39;00m load_external_data:\n",
      "File \u001b[1;32mc:\\Users\\tomas\\AppData\\Local\\Programs\\Python\\Python310\\lib\\site-packages\\onnx\\__init__.py:34\u001b[0m, in \u001b[0;36m_load_bytes\u001b[1;34m(f)\u001b[0m\n\u001b[0;32m     32\u001b[0m     s \u001b[39m=\u001b[39m cast(IO[\u001b[39mbytes\u001b[39m], f)\u001b[39m.\u001b[39mread()\n\u001b[0;32m     33\u001b[0m \u001b[39melse\u001b[39;00m:\n\u001b[1;32m---> 34\u001b[0m     \u001b[39mwith\u001b[39;00m \u001b[39mopen\u001b[39;49m(cast(\u001b[39mstr\u001b[39;49m, f), \u001b[39m\"\u001b[39;49m\u001b[39mrb\u001b[39;49m\u001b[39m\"\u001b[39;49m) \u001b[39mas\u001b[39;00m readable:\n\u001b[0;32m     35\u001b[0m         s \u001b[39m=\u001b[39m readable\u001b[39m.\u001b[39mread()\n\u001b[0;32m     36\u001b[0m \u001b[39mreturn\u001b[39;00m s\n",
      "\u001b[1;31mFileNotFoundError\u001b[0m: [Errno 2] No such file or directory: 'sam_onnx_example.onnx'"
     ]
    }
   ],
   "source": [
    "onnx_model_path = \"sam_onnx_example.onnx\"\n",
    "onnx_model_quantized_path = \"sam_onnx_quantized_example.onnx\"\n",
    "quantize_dynamic(\n",
    "    model_input=onnx_model_path,\n",
    "    model_output=onnx_model_quantized_path,\n",
    "    optimize_model=True,\n",
    "    per_channel=False,\n",
    "    reduce_range=False,\n",
    "    weight_type=QuantType.QUInt8,\n",
    ")"
   ]
  }
 ],
 "metadata": {
  "kernelspec": {
   "display_name": "Python 3",
   "language": "python",
   "name": "python3"
  },
  "language_info": {
   "codemirror_mode": {
    "name": "ipython",
    "version": 3
   },
   "file_extension": ".py",
   "mimetype": "text/x-python",
   "name": "python",
   "nbconvert_exporter": "python",
   "pygments_lexer": "ipython3",
   "version": "3.10.9"
  },
  "orig_nbformat": 4
 },
 "nbformat": 4,
 "nbformat_minor": 2
}
